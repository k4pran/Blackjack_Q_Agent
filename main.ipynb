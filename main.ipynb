{
 "cells": [
  {
   "cell_type": "code",
   "execution_count": 20,
   "metadata": {},
   "outputs": [],
   "source": [
    "import gym\n",
    "import numpy as np\n",
    "import matplotlib.pyplot as plt\n"
   ]
  },
  {
   "cell_type": "code",
   "execution_count": 21,
   "metadata": {
    "pycharm": {
     "name": "#%%\n"
    }
   },
   "outputs": [],
   "source": [
    "gym_id = \"Blackjack-v0\"\n",
    "env = gym.make(gym_id)\n",
    "action_space = env.action_space.n\n",
    "obs_shape = tuple(dim.n for dim in env.observation_space.spaces)\n",
    "gamma = 0.6\n",
    "learning_rate = 0.1"
   ]
  },
  {
   "cell_type": "code",
   "execution_count": 22,
   "metadata": {
    "pycharm": {
     "name": "#%%\n"
    }
   },
   "outputs": [],
   "source": [
    "class Agent:\n",
    "\n",
    "    def __init__(self):\n",
    "        self.value_table = np.zeros((obs_shape[0], obs_shape[1], obs_shape[2], action_space))\n",
    "\n",
    "    def action(self, state, training=True):\n",
    "        if training:\n",
    "            return np.random.randint(0, action_space)\n",
    "        else:\n",
    "            return np.argmax(self.value_table[state[0]][state[1]][int(state[2])])\n",
    "\n",
    "    def learn(self, state_actions, reward):\n",
    "        for state_action in sorted(state_actions, reverse=True):\n",
    "            state, action = state_action\n",
    "            opp_card_dim = state[0]\n",
    "            curr_count_dim = state[1]\n",
    "            has_ace_dim = int(state[2])\n",
    "            state_val = self.value_table[opp_card_dim][curr_count_dim][has_ace_dim][action]\n",
    "\n",
    "            q_val = state_val + learning_rate * reward\n",
    "            self.value_table[opp_card_dim][curr_count_dim][has_ace_dim][action] = q_val\n",
    "            reward *= gamma"
   ]
  },
  {
   "cell_type": "code",
   "execution_count": 23,
   "metadata": {
    "pycharm": {
     "name": "#%%\n"
    }
   },
   "outputs": [],
   "source": [
    "def run_game(player, episodes, training=True):\n",
    "    # loss | draw | win\n",
    "    results = list([0, 0, 0])\n",
    "    summary_print_freq = 1000\n",
    "    for episode in range(episodes):\n",
    "\n",
    "        state = env.reset()\n",
    "        reward = 0\n",
    "        done = False\n",
    "        sarsas = []\n",
    "        while not done:\n",
    "            action = player.action(state, training)\n",
    "            next_state, reward, done, _ = env.step(action)\n",
    "\n",
    "            sarsas.append((state, action))\n",
    "\n",
    "            state = next_state\n",
    "\n",
    "        results[int(reward) + 1] += 1\n",
    "        player.learn(sarsas, reward)\n",
    "        if summary_print_freq % episodes == 0:\n",
    "            print(\"Episode: {}\".format(episode))\n",
    "            print(\"Win rate: {}\".format(get_result_rate(sum(results), results[2])))\n",
    "            print(\"Draw rate: {}\".format(get_result_rate(sum(results), results[1])))\n",
    "            print(\"Loss rate: {}\\n\\n\".format(get_result_rate(sum(results), results[0])))\n",
    "\n",
    "    return results"
   ]
  },
  {
   "cell_type": "code",
   "execution_count": 24,
   "metadata": {
    "pycharm": {
     "name": "#%%\n"
    }
   },
   "outputs": [],
   "source": [
    "def get_result_rate(total, result_count):\n",
    "    if result_count == 0:\n",
    "        return 0\n",
    "    return result_count / total\n",
    "\n",
    "\n",
    "def get_autopct_perc():\n",
    "    def get_perc(value):\n",
    "        return '{p:.2f}%'.format(p=value)\n",
    "\n",
    "    return get_perc"
   ]
  },
  {
   "cell_type": "code",
   "execution_count": 25,
   "metadata": {
    "pycharm": {
     "name": "#%%\n"
    }
   },
   "outputs": [
    {
     "data": {
      "image/png": "[encoded data removed]",
      "text/plain": [
       "<Figure size 432x288 with 2 Axes>"
      ]
     },
     "metadata": {},
     "output_type": "display_data"
    }
   ],
   "source": [
    "if __name__ == \"__main__\":\n",
    "    player = Agent()\n",
    "    training_results = run_game(player, 10000)\n",
    "    test_results = run_game(player, 10000, training=False)\n",
    "\n",
    "    plt.subplot(1, 2, 1)\n",
    "    plt.pie(training_results, labels=[\"Loss\", \"Draw\", \"Win\"], autopct=get_autopct_perc())\n",
    "    plt.title(\"Training Results\")\n",
    "    plt.subplot(1, 2, 2)\n",
    "    plt.pie(test_results, labels=[\"Loss\", \"Draw\", \"Win\"], autopct=get_autopct_perc())\n",
    "    plt.title(\"Blackjack Results\")\n",
    "    plt.savefig(\"blackjack_results_pie.png\")"
   ]
  }
 ],
 "metadata": {
  "kernelspec": {
   "display_name": "Python 3",
   "language": "python",
   "name": "python3"
  },
  "language_info": {
   "codemirror_mode": {
    "name": "ipython",
    "version": 3
   },
   "file_extension": ".py",
   "mimetype": "text/x-python",
   "name": "python",
   "nbconvert_exporter": "python",
   "pygments_lexer": "ipython3",
   "version": "3.7.4"
  }
 },
 "nbformat": 4,
 "nbformat_minor": 1
}